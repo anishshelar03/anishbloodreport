{
 "cells": [
  {
   "cell_type": "markdown",
   "id": "9c666f31",
   "metadata": {},
   "source": [
    "# My Practice Codes:"
   ]
  },
  {
   "cell_type": "markdown",
   "id": "39775f91",
   "metadata": {},
   "source": [
    "## 1. ARMSTRONG NUMBER"
   ]
  },
  {
   "cell_type": "code",
   "execution_count": null,
   "id": "7027c2e9",
   "metadata": {},
   "outputs": [],
   "source": [
    "Number = int(input(\"Enter the Three digit number: \"))\n",
    "Result = 0\n",
    "Last_digit= Number%10\n",
    "#print(Last_digit)\n",
    "last_second = int((Number/10)%10)\n",
    "#print(last_second)\n",
    "first_digit= int(Number/100)\n",
    "Result= ((pow(last_second,3)) +pow(first_digit,3) + pow(Last_digit,3))\n",
    "#print(Result)\n",
    "if Result == Number :\n",
    "    print(\"IT'S A ARMSTRONG NUMBER\")\n",
    "else:\n",
    "    print(\"NO IT'S NOT A ARMSTRONG NUMBER\")\n",
    "    \n",
    "    "
   ]
  },
  {
   "cell_type": "markdown",
   "id": "4ead767f",
   "metadata": {},
   "source": [
    "## 2. Pattern (hollow right angle triangle)"
   ]
  },
  {
   "cell_type": "code",
   "execution_count": null,
   "id": "4e24bb41",
   "metadata": {},
   "outputs": [],
   "source": [
    "n = 20\n",
    "for i in range(n):\n",
    "    for j in range(n):\n",
    "        if j==0 or i==(n-1) or i==j :\n",
    "            print(\"*\", end=\"\")\n",
    "        else:\n",
    "            print(end=\" \")\n",
    "        \n",
    "    print()"
   ]
  },
  {
   "cell_type": "markdown",
   "id": "5a7f2f34",
   "metadata": {},
   "source": [
    "## 3. Find a Factorial of a Number"
   ]
  },
  {
   "cell_type": "code",
   "execution_count": null,
   "id": "0f7de41b",
   "metadata": {},
   "outputs": [],
   "source": [
    "# import math\n",
    "# Number = int(input(\"Enter number: \"))\n",
    "# result = math.factorial(Number)\n",
    "# print(result)\n",
    "\n",
    "\n",
    "#####Recursive##########\n",
    "\n",
    "# def fact(n):\n",
    "#     if n ==0:\n",
    "#         return 1\n",
    "#     else:\n",
    "#         return n*fact(n-1)\n",
    "\n",
    "# n= int(input(\"Enter the number\"))\n",
    "# Result = fact(n)\n",
    "# print(Result)\n",
    "\n",
    "#####loop####\n",
    "n= int(input(\"Enter the number\"))\n",
    "result = 1\n",
    "\n",
    "for i in range(n,0,-1):\n",
    "    result = result *i\n",
    "print(result)\n"
   ]
  },
  {
   "cell_type": "markdown",
   "id": "b94fe4fe",
   "metadata": {},
   "source": [
    "## 4. Opposit hollow tringle"
   ]
  },
  {
   "cell_type": "code",
   "execution_count": null,
   "id": "66507ca6",
   "metadata": {},
   "outputs": [],
   "source": [
    "n = 20\n",
    "for i in range(n):\n",
    "    for j in range(n):\n",
    "        if j==n-1 or i==0 or j==i:\n",
    "            print(\"*\", end=\"\")\n",
    "        else:\n",
    "            print(end=\" \")\n",
    "        \n",
    "    print()"
   ]
  },
  {
   "cell_type": "markdown",
   "id": "99dc7cb3",
   "metadata": {},
   "source": [
    "## 5. Pattern 1 to n in triangle"
   ]
  },
  {
   "cell_type": "code",
   "execution_count": null,
   "id": "672aab95",
   "metadata": {},
   "outputs": [],
   "source": [
    "n = 4\n",
    "a= 1\n",
    "for i in range(n):\n",
    "    for j in range(n):\n",
    "        if j <= i :\n",
    "            print(a, end=\"\")\n",
    "            a=a+1\n",
    "        else:\n",
    "            print(end=\" \")\n",
    "        \n",
    "    print()"
   ]
  },
  {
   "cell_type": "markdown",
   "id": "8cdb75e1",
   "metadata": {},
   "source": [
    "## 6. String Trinangle"
   ]
  },
  {
   "cell_type": "code",
   "execution_count": null,
   "id": "22762d45",
   "metadata": {},
   "outputs": [],
   "source": [
    "n1 = \"varnituu\"\n",
    "n = len(n1)\n",
    "for i in range(n):\n",
    "    for j in range(i+1):\n",
    "        if j <= i :\n",
    "            print(n1[j], end=\"\")\n",
    "            \n",
    "            \n",
    "        else:\n",
    "            print(end=\" \")\n",
    "        \n",
    "    print()"
   ]
  },
  {
   "cell_type": "code",
   "execution_count": null,
   "id": "33900488",
   "metadata": {},
   "outputs": [],
   "source": [
    "input_string = str(input(\"Enter string\"))\n",
    "n = len(input_string)\n",
    "\n",
    "for i in range(n):\n",
    "    for j in range(i+1):\n",
    "        if j <= i:\n",
    "            print(input_string[j], end=\" \")\n",
    "        \n",
    "    print()\n",
    "        "
   ]
  },
  {
   "cell_type": "markdown",
   "id": "80cd88c1",
   "metadata": {},
   "source": [
    "## 7. fibonacchi series"
   ]
  },
  {
   "cell_type": "code",
   "execution_count": null,
   "id": "a8e58536",
   "metadata": {},
   "outputs": [],
   "source": [
    "def fibo(n):\n",
    "    result = [0,1]\n",
    "    for i in result:\n",
    "        while (result[i]< n):\n",
    "            for i in range(n):\n",
    "                a=result[i]+result[i+1]\n",
    "                result = result.append(a)\n",
    "                print(result)\n",
    "    \n",
    "\n",
    "\n",
    "\n",
    "n = int(input(\"Enter number: \"))\n",
    "fibo(n)"
   ]
  },
  {
   "cell_type": "code",
   "execution_count": null,
   "id": "86895b3f",
   "metadata": {},
   "outputs": [],
   "source": [
    "n = int(input(\"Enter number: \"))\n",
    "first = 0\n",
    "second = 1\n",
    "for i in range(n) :\n",
    "    print(first, end=\" \")\n",
    "    temp = first\n",
    "    first = second\n",
    "    second = first + temp"
   ]
  },
  {
   "cell_type": "code",
   "execution_count": null,
   "id": "d81410d4",
   "metadata": {},
   "outputs": [],
   "source": [
    "n = int(input(\"Enter number: \"))\n",
    "n1=n\n",
    "for i in range(1,n+1):\n",
    "    for j in range(1,n1+1):\n",
    "        print(j, end= \"\")\n",
    "    n1=n1-1\n",
    "    print()"
   ]
  },
  {
   "cell_type": "code",
   "execution_count": null,
   "id": "fc65b4b4",
   "metadata": {},
   "outputs": [],
   "source": [
    "n = int(input(\"Enter number: \"))\n",
    "for i in range(2,n):\n",
    "    if j in range(2,9):\n",
    "        if i%j==0:\n",
    "            "
   ]
  },
  {
   "cell_type": "code",
   "execution_count": null,
   "id": "4940b03b",
   "metadata": {},
   "outputs": [],
   "source": []
  },
  {
   "cell_type": "code",
   "execution_count": null,
   "id": "90c8e720",
   "metadata": {},
   "outputs": [],
   "source": [
    "Movie_name = \"varnit\"\n",
    "if Movie_name == \"varnit\" :\n",
    "    print(\"correct\")\n"
   ]
  },
  {
   "cell_type": "code",
   "execution_count": null,
   "id": "cc9b40f1",
   "metadata": {},
   "outputs": [],
   "source": [
    "first_Number = int(input(\"Give me a Number \"))\n",
    "\n",
    "if first_Number%2==0:\n",
    "    second_Number= int(input(\"Give me a odd Number\"))\n",
    "    print(\"Even_Number: \",first_Number)\n",
    "    if second_Number%2!=0:\n",
    "        print(\"odd Number: \",second_Number)\n",
    "    else:\n",
    "        print(\"its not a odd number\")\n",
    "else:\n",
    "    print(\"not a even number\")"
   ]
  },
  {
   "cell_type": "code",
   "execution_count": null,
   "id": "da01a07f",
   "metadata": {},
   "outputs": [],
   "source": []
  },
  {
   "cell_type": "code",
   "execution_count": null,
   "id": "dc7e2c5f",
   "metadata": {},
   "outputs": [],
   "source": [
    "n=int(input())\n",
    "while n>0:\n",
    "    print(n)\n",
    "    n=n-1\n",
    "    if n==5:\n",
    "        print(\"n = 5\")\n",
    "    elif n==3:\n",
    "        continue\n",
    "    elif n==1:\n",
    "        break"
   ]
  },
  {
   "cell_type": "code",
   "execution_count": null,
   "id": "3258fc03",
   "metadata": {},
   "outputs": [],
   "source": [
    "a=['z','c','d']\n",
    "b={'z' : {'n' : 'l'},'c' :'m'}\n",
    "print(b['z'])"
   ]
  },
  {
   "cell_type": "code",
   "execution_count": null,
   "id": "d3631839",
   "metadata": {},
   "outputs": [],
   "source": [
    "number_range = list(range(0,26,2))\n",
    "print(number_range)\n",
    "x=[]\n",
    "for num in number_range:\n",
    "    if num>10 :\n",
    "        x.append(num*100)\n",
    "    \n",
    "print(x)"
   ]
  },
  {
   "cell_type": "code",
   "execution_count": 8,
   "id": "41ffb886",
   "metadata": {},
   "outputs": [
    {
     "name": "stdout",
     "output_type": "stream",
     "text": [
      "############################## Varnit Flight Booking Portal ##############################\n",
      "************************************ DashBoard *******************************************\n",
      "\n",
      "Flights Available : BHOPAL ---> GOA   INDORE ---> GULMARG   PUNE--->KASOL\n",
      "\n",
      "\n",
      "Source Station: BHOPAL\n",
      "Destination Station :GOA\n",
      "{'BHOPAL': 'GOA'}\n",
      "[{'BHOPAL': 'GOA'}, {'INDORE': 'GULMARG'}, {'PUNE': 'KASOL'}]\n",
      "INITIAL PRICE IS:  3996\n",
      "3996\n",
      "*** Note If No luggage Please enter 0 to continue\n",
      "Please Specify lugagge in KG: 10\n",
      "Final_fare is with 10 kg :  5496\n"
     ]
    }
   ],
   "source": [
    "import sys\n",
    "print(\"#\"*30 + \" Varnit Flight Booking Portal \" + \"#\"*30 )\n",
    "Source_station_list = ['BHOPAL','INDORE','PUNE']\n",
    "Destination_station_list = ['GOA','KASOL','GULMARG']\n",
    "Flight_between_station = {'BHOPAL': 'GOA','INDORE' : 'GULMARG','PUNE' : 'KASOL'}\n",
    "Distance_between_station = {333:{'BHOPAL' :'GOA'},1269:{'INDORE':'GULMARG'},963:{'PUNE':'KASOL'}}\n",
    "Cost_per_km = 15\n",
    "##print(Distance_between_station[333]['Bhopal'])\n",
    "\n",
    "#-----------------------------------------------------------------------------------------------------------------\n",
    "def dashboard():\n",
    "    print(\"*\"*36 + \" DashBoard \" + \"*\"*43)\n",
    "    print()\n",
    "    print(\"Flights Available : BHOPAL ---> GOA   INDORE ---> GULMARG   PUNE--->KASOL\")\n",
    "    print()\n",
    "    print()\n",
    "    Source_station = input(\"Source Station: \")\n",
    "    Destination_station = input(\"Destination Station :\")\n",
    "    \n",
    "    return Source_station,Destination_station\n",
    "\n",
    "#------------------------------------------------------------------------------------------------------------------\n",
    "def booking():\n",
    "    count=-1\n",
    "    A=0\n",
    "    x,y=dashboard()\n",
    "\n",
    "\n",
    "    p = {x:y}\n",
    "    print(p)\n",
    "    if x not in Source_station_list or y not in Destination_station_list:\n",
    "\n",
    "        sys.exit(\"your source or destination is not in the list\")\n",
    "    t = list(Distance_between_station.values())\n",
    "    k = list(Distance_between_station.keys())\n",
    "    t = list(t)\n",
    "    print(t)\n",
    "    \n",
    "    for i in t:\n",
    "        count+=1\n",
    "        if i == p:\n",
    "            A=1\n",
    "            km = k[count]\n",
    "            Travel_cost = km*12\n",
    "            print(\"INITIAL PRICE IS: \",Travel_cost)\n",
    "#         else:\n",
    "#             print(\"Enter the valid Soure and destination\")\n",
    "        return Travel_cost\n",
    "        \n",
    "#--------------------------------------------------------------------------------------------------------------------\n",
    "def luggage():\n",
    "    fare = booking()\n",
    "    Final_fare = 0\n",
    "    print(fare)\n",
    "    if fare != None:\n",
    "        Final_fare = fare\n",
    "    \n",
    "    if fare!=0:\n",
    "        print(\"*** Note If No luggage Please enter 0 to continue\")\n",
    "        Luggage_weight = int(input(\"Please Specify lugagge in KG: \"))\n",
    "        if Luggage_weight == 0:\n",
    "            #Final_fare = fare\n",
    "            print(\"Final_fare is with\", Luggage_weight, \"kg : \",Final_fare)\n",
    "        elif Luggage_weight < 10:\n",
    "            Final_fare += 1000\n",
    "            print(\"Final_fare is with\", Luggage_weight, \"kg : \",Final_fare)\n",
    "        elif Luggage_weight <25:\n",
    "            Final_fare += 1500\n",
    "            print(\"Final_fare is with\", Luggage_weight, \"kg : \",Final_fare)\n",
    "        else:\n",
    "            Final_fare += 3000\n",
    "            print(\"Final_fare is with\", Luggage_weight, \"kg : \",Final_fare)\n",
    "\n",
    "luggage()\n"
   ]
  },
  {
   "cell_type": "code",
   "execution_count": 6,
   "id": "15c389d9",
   "metadata": {},
   "outputs": [
    {
     "ename": "SystemExit",
     "evalue": "exit Done",
     "output_type": "error",
     "traceback": [
      "An exception has occurred, use %tb to see the full traceback.\n",
      "\u001b[1;31mSystemExit\u001b[0m\u001b[1;31m:\u001b[0m exit Done\n"
     ]
    }
   ],
   "source": [
    "import sys\n",
    "a= 10\n",
    "if a==10:\n",
    "    sys.exit(\"exit Done\")\n",
    "    print(\"aaa\")\n",
    "    print(\"aaa\")\n",
    "else:\n",
    "    print(\"a\")"
   ]
  },
  {
   "cell_type": "code",
   "execution_count": 8,
   "id": "ba15a46d",
   "metadata": {},
   "outputs": [
    {
     "ename": "TypeError",
     "evalue": "unsupported operand type(s) for ** or pow(): 'tuple' and 'int'",
     "output_type": "error",
     "traceback": [
      "\u001b[1;31m---------------------------------------------------------------------------\u001b[0m",
      "\u001b[1;31mTypeError\u001b[0m                                 Traceback (most recent call last)",
      "\u001b[1;32m~\\AppData\\Local\\Temp\\ipykernel_12228\\1091608370.py\u001b[0m in \u001b[0;36m<module>\u001b[1;34m\u001b[0m\n\u001b[0;32m      4\u001b[0m     \u001b[0mx2\u001b[0m \u001b[1;33m=\u001b[0m \u001b[0mx\u001b[0m\u001b[1;33m**\u001b[0m\u001b[1;36m3\u001b[0m\u001b[1;33m\u001b[0m\u001b[1;33m\u001b[0m\u001b[0m\n\u001b[0;32m      5\u001b[0m     \u001b[1;32mreturn\u001b[0m \u001b[0mx1\u001b[0m\u001b[1;33m,\u001b[0m\u001b[0mx2\u001b[0m\u001b[1;33m\u001b[0m\u001b[1;33m\u001b[0m\u001b[0m\n\u001b[1;32m----> 6\u001b[1;33m \u001b[0maa\u001b[0m\u001b[1;33m(\u001b[0m\u001b[1;36m10\u001b[0m\u001b[1;33m)\u001b[0m\u001b[1;33m\u001b[0m\u001b[1;33m\u001b[0m\u001b[0m\n\u001b[0m",
      "\u001b[1;32m~\\AppData\\Local\\Temp\\ipykernel_12228\\1091608370.py\u001b[0m in \u001b[0;36maa\u001b[1;34m(*x)\u001b[0m\n\u001b[0;32m      1\u001b[0m \u001b[1;32mdef\u001b[0m \u001b[0maa\u001b[0m\u001b[1;33m(\u001b[0m\u001b[1;33m*\u001b[0m\u001b[0mx\u001b[0m\u001b[1;33m)\u001b[0m\u001b[1;33m:\u001b[0m\u001b[1;33m\u001b[0m\u001b[1;33m\u001b[0m\u001b[0m\n\u001b[0;32m      2\u001b[0m     \u001b[1;31m#x = int(input())\u001b[0m\u001b[1;33m\u001b[0m\u001b[1;33m\u001b[0m\u001b[0m\n\u001b[1;32m----> 3\u001b[1;33m     \u001b[0mx1\u001b[0m \u001b[1;33m=\u001b[0m \u001b[0mx\u001b[0m\u001b[1;33m**\u001b[0m\u001b[1;36m2\u001b[0m\u001b[1;33m\u001b[0m\u001b[1;33m\u001b[0m\u001b[0m\n\u001b[0m\u001b[0;32m      4\u001b[0m     \u001b[0mx2\u001b[0m \u001b[1;33m=\u001b[0m \u001b[0mx\u001b[0m\u001b[1;33m**\u001b[0m\u001b[1;36m3\u001b[0m\u001b[1;33m\u001b[0m\u001b[1;33m\u001b[0m\u001b[0m\n\u001b[0;32m      5\u001b[0m     \u001b[1;32mreturn\u001b[0m \u001b[0mx1\u001b[0m\u001b[1;33m,\u001b[0m\u001b[0mx2\u001b[0m\u001b[1;33m\u001b[0m\u001b[1;33m\u001b[0m\u001b[0m\n",
      "\u001b[1;31mTypeError\u001b[0m: unsupported operand type(s) for ** or pow(): 'tuple' and 'int'"
     ]
    }
   ],
   "source": [
    "def aa(*x):\n",
    "    x = int(input())\n",
    "    x1 = x**2\n",
    "    x2 = x**3\n",
    "    return x1,x2\n",
    "aa(10)"
   ]
  },
  {
   "cell_type": "code",
   "execution_count": 1,
   "id": "0b6181a5",
   "metadata": {},
   "outputs": [
    {
     "name": "stdout",
     "output_type": "stream",
     "text": [
      "4\n",
      "4\n"
     ]
    }
   ],
   "source": [
    "def varnit(a,b,c=100):\n",
    "    d = a+b+c\n",
    "    print(d)\n",
    "    quit()\n",
    "    print(d)\n",
    "varnit(1,1,2)"
   ]
  },
  {
   "cell_type": "code",
   "execution_count": 3,
   "id": "cdbd9047",
   "metadata": {},
   "outputs": [
    {
     "name": "stdout",
     "output_type": "stream",
     "text": [
      "a\n",
      "a\n",
      "a\n",
      "a\n",
      "a\n",
      "3\n",
      "a\n"
     ]
    }
   ],
   "source": [
    "print(\"a\")\n",
    "print(\"a\")\n",
    "print(\"a\")\n",
    "print(\"a\")\n",
    "print(\"a\")\n",
    "for i in (1,2,3):\n",
    "    if i>2:\n",
    "        print(i)\n",
    "        break\n",
    "print(\"a\")"
   ]
  },
  {
   "cell_type": "code",
   "execution_count": 6,
   "id": "37256da2",
   "metadata": {
    "scrolled": true
   },
   "outputs": [
    {
     "ename": "NameError",
     "evalue": "name 'void' is not defined",
     "output_type": "error",
     "traceback": [
      "\u001b[1;31m---------------------------------------------------------------------------\u001b[0m",
      "\u001b[1;31mNameError\u001b[0m                                 Traceback (most recent call last)",
      "\u001b[1;32m~\\AppData\\Local\\Temp\\ipykernel_14100\\1901213435.py\u001b[0m in \u001b[0;36m<module>\u001b[1;34m\u001b[0m\n\u001b[1;32m----> 1\u001b[1;33m \u001b[0mprint\u001b[0m\u001b[1;33m(\u001b[0m\u001b[0mtype\u001b[0m\u001b[1;33m(\u001b[0m\u001b[0mvoid\u001b[0m\u001b[1;33m)\u001b[0m\u001b[1;33m)\u001b[0m\u001b[1;33m\u001b[0m\u001b[1;33m\u001b[0m\u001b[0m\n\u001b[0m",
      "\u001b[1;31mNameError\u001b[0m: name 'void' is not defined"
     ]
    }
   ],
   "source": [
    "print(type(void))"
   ]
  },
  {
   "cell_type": "code",
   "execution_count": 3,
   "id": "b8b7bd41",
   "metadata": {},
   "outputs": [],
   "source": [
    "Source_station_list = ['BHOPAL','INDORE','PUNE']\n",
    "Destination_station_list = ['GOA','KASOL','GULMARG']\n",
    "\n",
    "def sources():\n",
    "    \n",
    "    x = input(\"enter source\")\n",
    "\n",
    "    y = input(\"enter destination\")\n",
    "    if x not in Source_station_list:\n",
    "        print('invalid source')\n",
    "    if x not in Destination_station_list:\n",
    "        print('invalid destination')\n",
    "        \n",
    "    return x,y\n"
   ]
  },
  {
   "cell_type": "code",
   "execution_count": null,
   "id": "c2e6d851",
   "metadata": {},
   "outputs": [],
   "source": []
  }
 ],
 "metadata": {
  "kernelspec": {
   "display_name": "Python 3 (ipykernel)",
   "language": "python",
   "name": "python3"
  },
  "language_info": {
   "codemirror_mode": {
    "name": "ipython",
    "version": 3
   },
   "file_extension": ".py",
   "mimetype": "text/x-python",
   "name": "python",
   "nbconvert_exporter": "python",
   "pygments_lexer": "ipython3",
   "version": "3.10.6"
  },
  "varInspector": {
   "cols": {
    "lenName": 16,
    "lenType": 16,
    "lenVar": 40
   },
   "kernels_config": {
    "python": {
     "delete_cmd_postfix": "",
     "delete_cmd_prefix": "del ",
     "library": "var_list.py",
     "varRefreshCmd": "print(var_dic_list())"
    },
    "r": {
     "delete_cmd_postfix": ") ",
     "delete_cmd_prefix": "rm(",
     "library": "var_list.r",
     "varRefreshCmd": "cat(var_dic_list()) "
    }
   },
   "types_to_exclude": [
    "module",
    "function",
    "builtin_function_or_method",
    "instance",
    "_Feature"
   ],
   "window_display": false
  }
 },
 "nbformat": 4,
 "nbformat_minor": 5
}
